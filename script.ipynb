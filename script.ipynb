{
 "cells": [
  {
   "cell_type": "code",
   "execution_count": null,
   "id": "6208fcb6",
   "metadata": {},
   "outputs": [
    {
     "name": "stdout",
     "output_type": "stream",
     "text": [
      "Your GPA is: 3.5\n",
      "Courses Entered:\n",
      "Course     Credits    Grade     \n",
      "-----------------------------------\n",
      "rnglis     2.0        3.00      \n",
      "maths      2.0        4.00      \n"
     ]
    }
   ],
   "source": [
    "course = []\n",
    "credit = []\n",
    "grade = []\n",
    "\n",
    "def simple_gpa_calc():\n",
    "    #input course name, credit, grade\n",
    "    a = input(\"Enter course name\")\n",
    "    course.append(a)\n",
    "    b = float(input(\"Enter credit\"))\n",
    "    credit.append(b)\n",
    "    c = float(input(\"Enter grade\"))\n",
    "    grade.append(c)\n",
    "\n",
    "while True: #repeat loop until it's told to stop\n",
    "    simple_gpa_calc()\n",
    "    d = input(\"Continue(y/n):\")\n",
    "    if d.lower() == \"y\":\n",
    "        continue\n",
    "    else:\n",
    "        sigma = 0\n",
    "        total_credit = 0\n",
    "        for i in range(len(credit)): #gpa = total of (credit x grade) / number of total credits\n",
    "            sigma += credit[i]*grade[i]\n",
    "            total_credit += credit[i]\n",
    "        print(\"Your GPA is:\",sigma/total_credit)\n",
    "\n",
    "        print(\"Courses Entered:\") #print table\n",
    "        print(\"{:<10} {:<10} {:<10}\".format(\"Course\", \"Credits\", \"Grade\"))\n",
    "        print(\"-\" * 35)\n",
    "        for i in range(len(credit)):\n",
    "            print(\"{:<10} {:<10.1f} {:<10.2f}\".format(course[i], credit[i], grade[i]))\n",
    "        break\n",
    "\n",
    "\n",
    "\n"
   ]
  }
 ],
 "metadata": {
  "kernelspec": {
   "display_name": "Python 3",
   "language": "python",
   "name": "python3"
  },
  "language_info": {
   "codemirror_mode": {
    "name": "ipython",
    "version": 3
   },
   "file_extension": ".py",
   "mimetype": "text/x-python",
   "name": "python",
   "nbconvert_exporter": "python",
   "pygments_lexer": "ipython3",
   "version": "3.13.0"
  }
 },
 "nbformat": 4,
 "nbformat_minor": 5
}
